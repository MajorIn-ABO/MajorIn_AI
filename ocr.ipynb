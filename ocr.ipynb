{
 "cells": [
  {
   "cell_type": "code",
   "execution_count": null,
   "metadata": {},
   "outputs": [],
   "source": [
    "from paddleocr import PaddleOCR\n",
    "\n",
    "img_path = \"resource\\img1.jpg\"\n",
    "\n",
    "ocr = PaddleOCR(use_angle_cls=True, lang='korean')\n",
    "result = ocr.ocr(img_path, cls=True)\n",
    "\n",
    "# 결과 처리\n",
    "extracted_texts = []\n",
    "for line in result:\n",
    "  for word in line:\n",
    "    extracted_texts.append(word[1][0])  # 텍스트 정보만 추출\n",
    "    \n",
    "print(extracted_texts)"
   ]
  },
  {
   "cell_type": "code",
   "execution_count": null,
   "metadata": {},
   "outputs": [],
   "source": []
  }
 ],
 "metadata": {
  "kernelspec": {
   "display_name": "myenv",
   "language": "python",
   "name": "python3"
  },
  "language_info": {
   "name": "python",
   "version": "3.12.0"
  }
 },
 "nbformat": 4,
 "nbformat_minor": 2
}
